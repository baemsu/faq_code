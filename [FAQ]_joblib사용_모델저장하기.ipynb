{
  "nbformat": 4,
  "nbformat_minor": 0,
  "metadata": {
    "colab": {
      "name": "[FAQ] joblib사용 모델저장하기.ipynb",
      "provenance": [],
      "collapsed_sections": [],
      "authorship_tag": "ABX9TyPcI/U1XKwMoG6+sXDGgJ7+",
      "include_colab_link": true
    },
    "kernelspec": {
      "name": "python3",
      "display_name": "Python 3"
    },
    "language_info": {
      "name": "python"
    }
  },
  "cells": [
    {
      "cell_type": "markdown",
      "metadata": {
        "id": "view-in-github",
        "colab_type": "text"
      },
      "source": [
        "<a href=\"https://colab.research.google.com/github/baemsu/faq_code/blob/main/%5BFAQ%5D_joblib%EC%82%AC%EC%9A%A9_%EB%AA%A8%EB%8D%B8%EC%A0%80%EC%9E%A5%ED%95%98%EA%B8%B0.ipynb\" target=\"_parent\"><img src=\"https://colab.research.google.com/assets/colab-badge.svg\" alt=\"Open In Colab\"/></a>"
      ]
    },
    {
      "cell_type": "markdown",
      "source": [
        "#**(Q)Sklearn 통해 만들어진 모델 어떻게 저장해요?**\n",
        "#**joblib 라이브러리에 대해**\n",
        "\n",
        "##[목적]\n",
        "* **머신러닝**에서 모델만 빼내어서 솔루션에 적용하기 위해\n",
        "* 예를 들어 신규 데이터를 예측하는데, 매번 학습한후 신규 데이터를 예측할수 없기 때문에 **모델만 저장**한후 이를 가지고 예측하는 방법\n",
        "* 모델에는 파라미터들이 저장된다. (단순회귀의 경우, **절편과 기울기값**이 저장된다.)\n",
        "* 사용방법\n",
        "\n",
        "\n",
        "```\n",
        "import joblib (라이브러리 불러오기)\n",
        "joblib.dump(model, './regression_model.pkl')  (모델저장하기)\n",
        "loaded_model = joblib.load(\"./regression_model.pkl\")   (모델 불러오기)\n",
        "```\n",
        "\n",
        "\n"
      ],
      "metadata": {
        "id": "7Ea-Jq6afBal"
      }
    },
    {
      "cell_type": "markdown",
      "source": [
        "\n",
        "# **(예시) 단순회귀모형을 만들고 이를 모델에 저장한 후 모델만 가지고 신규 값을 예측해본다.**"
      ],
      "metadata": {
        "id": "RUK6yZbCgsTE"
      }
    },
    {
      "cell_type": "markdown",
      "source": [
        "## 일단 단순 회귀 모델을 만들어 봅니다."
      ],
      "metadata": {
        "id": "xkZ_Lp6OiqEW"
      }
    },
    {
      "cell_type": "code",
      "source": [
        "#모델 생성\n",
        "from sklearn.linear_model import LinearRegression\n",
        "import numpy as np\n",
        "import pandas as pd\n",
        "\n",
        "data = {'x':[10,20,30,40,55,67,76,89,99,100],'y':[110,214,313,456,556,687,789,820,950,1023]}\n",
        "\n",
        "df = pd.DataFrame(data)\n",
        "\n",
        "x = df.drop(columns = [\"y\"], axis = 1)\n",
        "y = df[\"y\"]\n",
        "\n",
        "model = LinearRegression()\n",
        "model.fit(x,y)\n",
        "\n",
        "print(\"기울기: \", model.coef_[0])\n",
        "print(\"절편: \", model.intercept_)\n"
      ],
      "metadata": {
        "colab": {
          "base_uri": "https://localhost:8080/"
        },
        "id": "0GLP71-qg8Ed",
        "outputId": "14d7bf1f-14c7-422f-9f7c-67bac83f6062"
      },
      "execution_count": null,
      "outputs": [
        {
          "output_type": "stream",
          "name": "stdout",
          "text": [
            "기울기:  9.523820354824036\n",
            "절편:  33.704127207311444\n"
          ]
        }
      ]
    },
    {
      "cell_type": "code",
      "source": [
        "#신규데이터 예측\n",
        "\n",
        "new_x = [30,48,50]\n",
        "df_new_x = pd.DataFrame(new_x)\n",
        "\n",
        "new_y = model.predict(df_new_x )\n",
        "\n",
        "print(new_y)"
      ],
      "metadata": {
        "colab": {
          "base_uri": "https://localhost:8080/"
        },
        "id": "r2OR5HmskJym",
        "outputId": "726c57b9-18df-4500-abdb-0500c8cd1478"
      },
      "execution_count": null,
      "outputs": [
        {
          "output_type": "stream",
          "name": "stdout",
          "text": [
            "[319.41873785 490.84750424 509.89514495]\n"
          ]
        },
        {
          "output_type": "stream",
          "name": "stderr",
          "text": [
            "/usr/local/lib/python3.7/dist-packages/sklearn/base.py:451: UserWarning: X does not have valid feature names, but LinearRegression was fitted with feature names\n",
            "  \"X does not have valid feature names, but\"\n"
          ]
        }
      ]
    },
    {
      "cell_type": "markdown",
      "source": [
        "# 이제 모델을 저장한 후 이를 가지고 예측을 해보겠습니다."
      ],
      "metadata": {
        "id": "iTcneKBCiuoY"
      }
    },
    {
      "cell_type": "code",
      "execution_count": null,
      "metadata": {
        "colab": {
          "base_uri": "https://localhost:8080/"
        },
        "id": "Pq5IT3_5e9l6",
        "outputId": "3174a3e0-b277-4a60-afd9-26be4b3c15d5"
      },
      "outputs": [
        {
          "output_type": "execute_result",
          "data": {
            "text/plain": [
              "['./regression_model.pkl']"
            ]
          },
          "metadata": {},
          "execution_count": 5
        }
      ],
      "source": [
        "# joblib을 임포트 한 후 모델을 regression_model.pkl로 저장하세요\n",
        "\n",
        "import joblib\n",
        "\n",
        "joblib.dump(model, './regression_model.pkl') "
      ]
    },
    {
      "cell_type": "markdown",
      "source": [
        "# 이제 모두 리셋하고, 앞서 저장한 모델을 불러와서 이를 통해 예측해 보겠습니다."
      ],
      "metadata": {
        "id": "pLkzZvLSlK-n"
      }
    },
    {
      "cell_type": "code",
      "source": [
        "# joblib을 임포트 한 후 저장된 모델을 불러오세요\n",
        "\n",
        "import joblib\n",
        "loaded_model = joblib.load(\"./regression_model.pkl\")\n"
      ],
      "metadata": {
        "id": "64V_d7SEgeyj"
      },
      "execution_count": null,
      "outputs": []
    },
    {
      "cell_type": "code",
      "source": [
        "# 불러온 모델을 활용해 40일때 얼마인지 예측해 보세요\n",
        "\n",
        "import pandas as pd\n",
        "\n",
        "new_x = [40]\n",
        "df_new_x = pd.DataFrame(new_x)\n",
        "\n",
        "new_y = loaded_model.predict(df_new_x )\n",
        "print(new_y)"
      ],
      "metadata": {
        "colab": {
          "base_uri": "https://localhost:8080/"
        },
        "id": "sHErQVYllkul",
        "outputId": "d9d8bb18-7213-4b95-c716-4f8fe9e80e33"
      },
      "execution_count": null,
      "outputs": [
        {
          "output_type": "stream",
          "name": "stdout",
          "text": [
            "[414.6569414]\n"
          ]
        },
        {
          "output_type": "stream",
          "name": "stderr",
          "text": [
            "/usr/local/lib/python3.7/dist-packages/sklearn/base.py:451: UserWarning: X does not have valid feature names, but LinearRegression was fitted with feature names\n",
            "  \"X does not have valid feature names, but\"\n"
          ]
        }
      ]
    },
    {
      "cell_type": "markdown",
      "source": [
        "## **주의사항** 모델을 불러와 사용시 입력 feature수와 타입이 동일해야 합니다. "
      ],
      "metadata": {
        "id": "cE-uUqJ9mA3_"
      }
    }
  ]
}