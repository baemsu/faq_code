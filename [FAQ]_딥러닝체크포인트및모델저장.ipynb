{
  "nbformat": 4,
  "nbformat_minor": 0,
  "metadata": {
    "colab": {
      "name": "[FAQ] 딥러닝체크포인트및모델저장.ipynb",
      "provenance": [],
      "collapsed_sections": [],
      "authorship_tag": "ABX9TyMHEA2+EaRM0zm9gdhEl9vD",
      "include_colab_link": true
    },
    "kernelspec": {
      "name": "python3",
      "display_name": "Python 3"
    },
    "language_info": {
      "name": "python"
    }
  },
  "cells": [
    {
      "cell_type": "markdown",
      "metadata": {
        "id": "view-in-github",
        "colab_type": "text"
      },
      "source": [
        "<a href=\"https://colab.research.google.com/github/baemsu/faq_code/blob/main/%5BFAQ%5D_%EB%94%A5%EB%9F%AC%EB%8B%9D%EC%B2%B4%ED%81%AC%ED%8F%AC%EC%9D%B8%ED%8A%B8%EB%B0%8F%EB%AA%A8%EB%8D%B8%EC%A0%80%EC%9E%A5.ipynb\" target=\"_parent\"><img src=\"https://colab.research.google.com/assets/colab-badge.svg\" alt=\"Open In Colab\"/></a>"
      ]
    },
    {
      "cell_type": "markdown",
      "source": [
        "#**(Q)딥러닝의 최적의 학습모델을 어떻게 저장하나요?**\n",
        "\n",
        "##[방법]\n",
        "* **딥러닝**시 최적의 epoch의 Weight를 저장하기 위해서는 checkpoint를 적용하여 학습한다.\n",
        "* checkpoint를 통해 학습 후 weight를 로딩한다.\n",
        "* 그리고 나서, 해당 모델을 저장하여 사용한다.\n",
        "\n",
        "\n",
        "## Notation\n",
        "\n",
        "```\n",
        "from tensorflow.keras.callbacks import ModelCheckpoint\n",
        "\n",
        "# 체크포인트 저장하기\n",
        "checkpoint_path = \"my_checkpoint.ckpt\"\n",
        "cp_callback = tf.keras.callbacks.ModelCheckpoint(filepath=checkpoint_path,\n",
        "                                                 save_weights_only=True,\n",
        "                                                 save_best_only=True, \n",
        "                                                 monitor='val_loss', \n",
        "                                                 verbose=1)\n",
        "\n",
        "hist = model_dl.fit(train_x, \n",
        "          train_y,  \n",
        "          epochs=100,\n",
        "          validation_data=(val_x,val_y),\n",
        "          callbacks=[cp_callback])\n",
        "\n",
        "#체크포인트 호출하기\n",
        "model_dl.load_weights(checkpoint_path)\n",
        "\n",
        "#모델 저장하기\n",
        "model_dl.save(\"my_model.h\")\n",
        "\n",
        "```\n",
        "\n"
      ],
      "metadata": {
        "id": "7Ea-Jq6afBal"
      }
    },
    {
      "cell_type": "markdown",
      "source": [
        "\n",
        "# **(예시) 단순회귀모형을 만들고 스케일러와 모델을 함께 저장한 후, 스케일러와 모델를 호출하여 신규 값을 예측.**"
      ],
      "metadata": {
        "id": "RUK6yZbCgsTE"
      }
    },
    {
      "cell_type": "markdown",
      "source": [
        "## (1) 일단 단순 회귀를 딥러닝 모델로 만들어 봅니다."
      ],
      "metadata": {
        "id": "xkZ_Lp6OiqEW"
      }
    },
    {
      "cell_type": "code",
      "source": [
        "#모델 생성\n",
        "import numpy as np\n",
        "import pandas as pd\n",
        "\n",
        "data = {'x':[10,20,30,40,55,67,76,89,99,100],'y':[110,214,313,456,556,687,789,820,950,1023]}\n",
        "val_data = {'x':[11,23,35],'y':[115,224,300]}\n",
        "\n",
        "df = pd.DataFrame(data)\n",
        "df2 = pd.DataFrame(val_data)\n",
        "\n",
        "\n",
        "train_x = df.drop(columns = [\"y\"], axis = 1)\n",
        "train_y = df[\"y\"]\n",
        "\n",
        "val_x = df2.drop(columns = [\"y\"], axis = 1)\n",
        "val_y = df2[\"y\"]"
      ],
      "metadata": {
        "id": "0GLP71-qg8Ed"
      },
      "execution_count": 6,
      "outputs": []
    },
    {
      "cell_type": "code",
      "source": [
        "import tensorflow as tf\n",
        "from tensorflow.keras import layers\n",
        "from tensorflow.keras.layers import Dense\n",
        "from tensorflow.keras.models import Sequential"
      ],
      "metadata": {
        "id": "FpNGRblD8bmJ"
      },
      "execution_count": 2,
      "outputs": []
    },
    {
      "cell_type": "code",
      "source": [
        "model_dl = tf.keras.Sequential()\n",
        "model_dl.add(tf.keras.layers.Dense(32, activation='relu', input_shape=[1]))\n",
        "model_dl.add(tf.keras.layers.Dense(16, activation='relu'))\n",
        "model_dl.add(tf.keras.layers.Dense(8, activation='relu'))\n",
        "model_dl.add(tf.keras.layers.Dense(1))\n",
        "\n",
        "optimizer = tf.keras.optimizers.RMSprop()\n",
        "model_dl.compile(optimizer=optimizer,\n",
        "              loss='mse') "
      ],
      "metadata": {
        "id": "AyzFry828i_2"
      },
      "execution_count": 13,
      "outputs": []
    },
    {
      "cell_type": "markdown",
      "source": [
        "## (2) 체크포인트와 모델을 저장합니다."
      ],
      "metadata": {
        "id": "n2XNI59jBH_i"
      }
    },
    {
      "cell_type": "code",
      "source": [
        "checkpoint_path = \"my_checkpoint.ckpt\"\n",
        "\n",
        "# 모델의 가중치를 저장하는 콜백 만들기\n",
        "cp_callback = tf.keras.callbacks.ModelCheckpoint(filepath=checkpoint_path,\n",
        "                                                 save_best_only=True, \n",
        "                                                 monitor='val_loss', \n",
        "                                                 verbose=1)\n",
        "\n",
        "# 새로운 콜백으로 모델 훈련하기\n",
        "hist = model_dl.fit(train_x, train_y, epochs=1000, validation_data=(val_x,val_y),callbacks=[cp_callback])"
      ],
      "metadata": {
        "id": "n6JvLB1m8-9-"
      },
      "execution_count": null,
      "outputs": []
    },
    {
      "cell_type": "code",
      "source": [
        "model_dl.load_weights(checkpoint_path)\n",
        "model_dl.save(\"my_model.h\")"
      ],
      "metadata": {
        "id": "nGm-e98FAjZA"
      },
      "execution_count": null,
      "outputs": []
    },
    {
      "cell_type": "markdown",
      "source": [
        "## (3) model을 호출하여 신규 x가 30 일때 y값을 예측해봅니다."
      ],
      "metadata": {
        "id": "EGuKp3752juZ"
      }
    },
    {
      "cell_type": "code",
      "source": [
        "loaded_model = tf.keras.models.load_model(\"my_model.h\")"
      ],
      "metadata": {
        "id": "cZ1J1BY12jGI"
      },
      "execution_count": 26,
      "outputs": []
    },
    {
      "cell_type": "code",
      "source": [
        "# 신규 x를 데이터프레임형태로 만듦니다.\n",
        "new_x=[90]\n",
        "df_new_x = pd.DataFrame(new_x)"
      ],
      "metadata": {
        "id": "e-wPJ9m83AJ6"
      },
      "execution_count": 27,
      "outputs": []
    },
    {
      "cell_type": "code",
      "source": [
        "new_y = loaded_model.predict(df_new_x)\n",
        "new_y"
      ],
      "metadata": {
        "id": "slglAntd31gI"
      },
      "execution_count": null,
      "outputs": []
    },
    {
      "cell_type": "code",
      "source": [
        ""
      ],
      "metadata": {
        "id": "dEL0KGag4ErV"
      },
      "execution_count": null,
      "outputs": []
    }
  ]
}