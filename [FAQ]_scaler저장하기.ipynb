{
  "nbformat": 4,
  "nbformat_minor": 0,
  "metadata": {
    "colab": {
      "name": "[FAQ] scaler저장하기.ipynb",
      "provenance": [],
      "collapsed_sections": [],
      "authorship_tag": "ABX9TyOUIvb4H3qQ3dUpg70ncqAo",
      "include_colab_link": true
    },
    "kernelspec": {
      "name": "python3",
      "display_name": "Python 3"
    },
    "language_info": {
      "name": "python"
    }
  },
  "cells": [
    {
      "cell_type": "markdown",
      "metadata": {
        "id": "view-in-github",
        "colab_type": "text"
      },
      "source": [
        "<a href=\"https://colab.research.google.com/github/baemsu/faq_code/blob/main/%5BFAQ%5D_scaler%EC%A0%80%EC%9E%A5%ED%95%98%EA%B8%B0.ipynb\" target=\"_parent\"><img src=\"https://colab.research.google.com/assets/colab-badge.svg\" alt=\"Open In Colab\"/></a>"
      ]
    },
    {
      "cell_type": "markdown",
      "source": [
        "#**(Q) x에 대해 전처리에서 스케일링시 Scaler 저장 어떻게 하고 어떻게 가져다 쓰나요?**\n",
        "\n",
        "##[목적]\n",
        "* **머신러닝, 딥러닝**시 X에 대한 스케일링을 실행한다, 스케일링하면 변환된 X값으로 모델이 저장된다.\n",
        "* 그렇다면, 신규 X가 입력 되었을 때, 이를 스케일링하지 않는다면~~ 당연히 전혀 다른 값을 리턴하기에 입력하는 신규 X도 스케일링 해야 한다.\n",
        "* 스케일러는 학습데이터로 스케일링후, 이를 joblib로 저장, 이후 추출하여, scaler를 저장하고, 이를 가지고 <transform>를 활용하여 신규 X를 변환 \n",
        "\n",
        "\n",
        "## Notation\n",
        "\n",
        "```\n",
        "from sklearn.preprocessing import MinMaxScaler\n",
        "scaler = MinMaxScaler()\n",
        "\n",
        "scaler.fit(train_x)\n",
        "\n",
        "import joblib\n",
        "file_name = \"scaler.pkl\"\n",
        "joblib.dump(scaler, file_name)\n",
        "\n",
        "scaler2= joblib.load(file_name)\n",
        "\n",
        "new_x_scaling = scaler2.transform(new_x)\n",
        "```\n",
        "\n",
        "\n"
      ],
      "metadata": {
        "id": "7Ea-Jq6afBal"
      }
    },
    {
      "cell_type": "markdown",
      "source": [
        "\n",
        "# **(예시) 단순회귀모형을 만들고 스케일러와 모델을 함께 저장한 후, 스케일러와 모델를 호출하여 신규 값을 예측.**"
      ],
      "metadata": {
        "id": "RUK6yZbCgsTE"
      }
    },
    {
      "cell_type": "markdown",
      "source": [
        "## (1) 일단 단순 회귀 모델을 만들어 봅니다.  스케일러 적용"
      ],
      "metadata": {
        "id": "xkZ_Lp6OiqEW"
      }
    },
    {
      "cell_type": "code",
      "source": [
        "#모델 생성\n",
        "from sklearn.linear_model import LinearRegression\n",
        "import numpy as np\n",
        "import pandas as pd\n",
        "\n",
        "data = {'x':[10,20,30,40,55,67,76,89,99,100],'y':[110,214,313,456,556,687,789,820,950,1023]}\n",
        "\n",
        "df = pd.DataFrame(data)\n",
        "\n",
        "x = df.drop(columns = [\"y\"], axis = 1)\n",
        "y = df[\"y\"]\n",
        "\n",
        "############# 스케일링 ############################\n",
        "from sklearn.preprocessing import MinMaxScaler\n",
        "scaler = MinMaxScaler()\n",
        "\n",
        "scaler.fit(x)\n",
        "\n",
        "train_x = scaler.transform(x)\n",
        "\n",
        "###################################################\n",
        "\n",
        "model = LinearRegression()\n",
        "model.fit(train_x,y)\n",
        "\n",
        "print(\"기울기: \", model.coef_[0])\n",
        "print(\"절편: \", model.intercept_)\n"
      ],
      "metadata": {
        "colab": {
          "base_uri": "https://localhost:8080/"
        },
        "id": "0GLP71-qg8Ed",
        "outputId": "4871eb86-736c-441a-da1d-bef4f373de21"
      },
      "execution_count": 1,
      "outputs": [
        {
          "output_type": "stream",
          "name": "stdout",
          "text": [
            "기울기:  857.1438319341632\n",
            "절편:  128.94233075555178\n"
          ]
        }
      ]
    },
    {
      "cell_type": "markdown",
      "source": [
        "## (2) 스케일러와 모델을 모두 저장합니다."
      ],
      "metadata": {
        "id": "Vm1I2F8-2GjL"
      }
    },
    {
      "cell_type": "code",
      "source": [
        "import joblib\n",
        "joblib.dump(model, './regression_model.pkl')\n",
        "joblib.dump(scaler, \"./scaler.pkl\")"
      ],
      "metadata": {
        "colab": {
          "base_uri": "https://localhost:8080/"
        },
        "id": "dkKID0ex2Fv8",
        "outputId": "8811d3ef-fcaa-4e94-d329-bcda741a0a08"
      },
      "execution_count": 4,
      "outputs": [
        {
          "output_type": "execute_result",
          "data": {
            "text/plain": [
              "['./regression_model.pkl']"
            ]
          },
          "metadata": {},
          "execution_count": 4
        }
      ]
    },
    {
      "cell_type": "markdown",
      "source": [
        "## (3) model과 scaler를 호출하여 신규 x가 30 일때 y값을 예측해봅니다."
      ],
      "metadata": {
        "id": "EGuKp3752juZ"
      }
    },
    {
      "cell_type": "code",
      "source": [
        "# 저장된 스케일러와 모델을 호출합니다.\n",
        "import joblib\n",
        "loaded_model = joblib.load(\"./regression_model.pkl\")\n",
        "loaded_scaler = joblib.load(\"./scaler.pkl\")"
      ],
      "metadata": {
        "id": "cZ1J1BY12jGI"
      },
      "execution_count": 7,
      "outputs": []
    },
    {
      "cell_type": "code",
      "source": [
        "# 신규 x를 데이터프레임형태로 만듦니다.\n",
        "new_x=[30]\n",
        "df_new_x = pd.DataFrame(new_x)"
      ],
      "metadata": {
        "id": "e-wPJ9m83AJ6"
      },
      "execution_count": 8,
      "outputs": []
    },
    {
      "cell_type": "code",
      "source": [
        "#x에 로딩된 scaler를 적용합니다.\n",
        "df_new_x_scaling = loaded_scaler.transform(df_new_x)"
      ],
      "metadata": {
        "colab": {
          "base_uri": "https://localhost:8080/"
        },
        "id": "fJ9dyUy-3Imh",
        "outputId": "fb582d73-93b3-4a6f-86ce-84d5382e835f"
      },
      "execution_count": 15,
      "outputs": [
        {
          "output_type": "stream",
          "name": "stderr",
          "text": [
            "/usr/local/lib/python3.7/dist-packages/sklearn/base.py:451: UserWarning: X does not have valid feature names, but MinMaxScaler was fitted with feature names\n",
            "  \"X does not have valid feature names, but\"\n"
          ]
        }
      ]
    },
    {
      "cell_type": "code",
      "source": [
        "new_y = loaded_model.predict(df_new_x_scaling)\n",
        "new_y"
      ],
      "metadata": {
        "colab": {
          "base_uri": "https://localhost:8080/"
        },
        "id": "slglAntd31gI",
        "outputId": "ca79993e-d23e-444c-fbfb-b4810c9b68e5"
      },
      "execution_count": 16,
      "outputs": [
        {
          "output_type": "execute_result",
          "data": {
            "text/plain": [
              "array([319.41873785])"
            ]
          },
          "metadata": {},
          "execution_count": 16
        }
      ]
    },
    {
      "cell_type": "code",
      "source": [
        "#참고\n",
        "new_y1 = loaded_model.predict(df_new_x)\n",
        "new_y1"
      ],
      "metadata": {
        "colab": {
          "base_uri": "https://localhost:8080/"
        },
        "id": "NEh-IcKw39hf",
        "outputId": "291c23cc-80eb-48a4-d80e-eb26a30f61d3"
      },
      "execution_count": 17,
      "outputs": [
        {
          "output_type": "execute_result",
          "data": {
            "text/plain": [
              "array([25843.25728878])"
            ]
          },
          "metadata": {},
          "execution_count": 17
        }
      ]
    },
    {
      "cell_type": "code",
      "source": [
        ""
      ],
      "metadata": {
        "id": "dEL0KGag4ErV"
      },
      "execution_count": null,
      "outputs": []
    }
  ]
}