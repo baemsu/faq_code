{
  "nbformat": 4,
  "nbformat_minor": 0,
  "metadata": {
    "colab": {
      "name": "[FAQ]streamlit를통해10분만에인공지능웹만들기_코드없음.ipynb",
      "provenance": [],
      "collapsed_sections": [],
      "authorship_tag": "ABX9TyNoMIUuycUcknD7tohhRm2t",
      "include_colab_link": true
    },
    "kernelspec": {
      "name": "python3",
      "display_name": "Python 3"
    },
    "language_info": {
      "name": "python"
    }
  },
  "cells": [
    {
      "cell_type": "markdown",
      "metadata": {
        "id": "view-in-github",
        "colab_type": "text"
      },
      "source": [
        "<a href=\"https://colab.research.google.com/github/baemsu/faq_code/blob/main/%5BFAQ%5Dstreamlit%EB%A5%BC%ED%86%B5%ED%95%B410%EB%B6%84%EB%A7%8C%EC%97%90%EC%9D%B8%EA%B3%B5%EC%A7%80%EB%8A%A5%EC%9B%B9%EB%A7%8C%EB%93%A4%EA%B8%B0_%EC%BD%94%EB%93%9C%EC%97%86%EC%9D%8C.ipynb\" target=\"_parent\"><img src=\"https://colab.research.google.com/assets/colab-badge.svg\" alt=\"Open In Colab\"/></a>"
      ]
    },
    {
      "cell_type": "markdown",
      "source": [
        "#**(Q) 인공지능모델링을 했는데요. 인풋을 받아서 아웃풋으로 예측값을 내보내는 웹을 빠르고 쉽게 만들고 싶어요?**\n",
        "\n",
        "##[방법]\n",
        "* streamlit를 설치한다.\n",
        "* streamlit으로 인풋과 아웃풋 화면을 만든다.\n",
        "* 코랩의 경우, 임시 클라우드를 활용하여 웹으로 띄운다.\n",
        "\n",
        "\n",
        "## Notation (코랩기준)\n",
        "\n",
        "```\n",
        "#스크림잇 설치\n",
        "!pip install streamlit\n",
        "\n",
        "#앱.py로 저장 \n",
        "%%writefile app.py\n",
        "import streamlit as st\n",
        "\n",
        "#pyngrok를 이용하여 코랩에서 만든 웹 띄우기\n",
        "\n",
        "!pip install pyngrok\n",
        "!ngrok authtoken ...... (자신이 받은 내용 추가하기)\n",
        "from pyngrok import ngrok\n",
        "!streamlit run app.py&>/dev/null&\n",
        "publ_url = ngrok.connect(addr = '8501')\n",
        "publ_url\n",
        "\n",
        "```\n",
        "\n",
        "\n"
      ],
      "metadata": {
        "id": "7Ea-Jq6afBal"
      }
    },
    {
      "cell_type": "markdown",
      "source": [
        "## (1) 일단 모델을 만들어 저장해 둔다. (간단한  리그레션 모델을 저장하겠다.)\n",
        "\n",
        "* 웹으로, Streamlit에는 본 코드는 들어가지 않고, 저장된 모델파일만 사용한다."
      ],
      "metadata": {
        "id": "EM8lK3F2LKw8"
      }
    },
    {
      "cell_type": "code",
      "source": [
        "from sklearn.linear_model import LinearRegression\n",
        "import numpy as np\n",
        "import pandas as pd\n",
        "\n",
        "data = {'x':[10,20,30,40,55,67,76,89,99,100],'y':[110,214,313,456,556,687,789,820,950,1023]}\n",
        "\n",
        "df = pd.DataFrame(data)\n",
        "\n",
        "x = df.drop(columns = [\"y\"], axis = 1)\n",
        "y = df[\"y\"]\n",
        "\n",
        "model = LinearRegression()\n",
        "model.fit(x,y)\n",
        "\n",
        "import joblib\n",
        "\n",
        "joblib.dump(model, './regression_model.pkl') "
      ],
      "metadata": {
        "id": "dEL0KGag4ErV",
        "colab": {
          "base_uri": "https://localhost:8080/"
        },
        "outputId": "807e7b1e-dc8f-4e85-8f2f-922e0024fd41"
      },
      "execution_count": null,
      "outputs": [
        {
          "output_type": "execute_result",
          "data": {
            "text/plain": [
              "['./regression_model.pkl']"
            ]
          },
          "metadata": {},
          "execution_count": 1
        }
      ]
    },
    {
      "cell_type": "markdown",
      "source": [
        "# (2) Streamlit를 설치한다."
      ],
      "metadata": {
        "id": "SsXrzt8_Lxmd"
      }
    },
    {
      "cell_type": "code",
      "source": [
        "!pip install streamlit"
      ],
      "metadata": {
        "id": "SoYqTO_8LtJA"
      },
      "execution_count": null,
      "outputs": []
    },
    {
      "cell_type": "markdown",
      "source": [
        "#(3) app.py 파일을 만들고 그 안에서 웹으로 띄우기 위한 입력과 출력화면을 제작한다.\n",
        "* 그리고 model를 활용해서 입력, 출력하도록 구성한다."
      ],
      "metadata": {
        "id": "qWJb-2rHMIHs"
      }
    },
    {
      "cell_type": "code",
      "source": [
        "# app.py 에 써 놓기 (여기에는 이안에서 활용되는 라이브러리는 모두 포함시켜야 한다.)\n",
        "\n",
        "%%writefile app.py\n",
        "\n",
        "#streamlit 라이브러리를 불러오기\n",
        "import streamlit as st\n",
        "#AI모델을 불러오기 위한 joblib 불러오기\n",
        "import joblib\n",
        "import pandas as pd\n",
        "\n",
        "# st를 이용하여 타이틀과 입력 방법을 명시한다.\n",
        "st.title('차량 속도에 따른 납부보험료 예측서비스')\n",
        "st.subheader('(1) 아래에 당신 차의 평균 속도를 입력해주세요!!!')\n",
        "\n",
        "values = st.slider('평균속도 입력하세요', 0, 200)  # st.number_input(\"평균속도\")\n",
        "st.write('평균속도:', values)\n",
        "\n",
        "#머신러닝으로 저장된 모델을 호출하고 st로 부터 받은 값으로 예측한다.\n",
        "loaded_model = joblib.load(\"/content/regression_model.pkl\")\n",
        "new_x = [values]\n",
        "df_new_x = pd.DataFrame(new_x)\n",
        "new_y = loaded_model.predict(df_new_x )\n",
        "\n",
        "#예측결과를 화면에 뿌려준다. \n",
        "st.subheader('(2) 속도에 따른 당신이 납부해야할 보험료는 다음과 같습니다.')\n",
        "st.write('예상되는 납부보험료:', new_y[0])\n"
      ],
      "metadata": {
        "colab": {
          "base_uri": "https://localhost:8080/"
        },
        "id": "bYCtbegSL-xd",
        "outputId": "19f3cd77-7f56-4225-8436-9389f655e740"
      },
      "execution_count": null,
      "outputs": [
        {
          "output_type": "stream",
          "name": "stdout",
          "text": [
            "Overwriting app.py\n"
          ]
        }
      ]
    },
    {
      "cell_type": "markdown",
      "source": [
        "# (4) pyngrok를 통해 로컬로 띄운다. (코랩기준)\n",
        "* 만약 아나콘다를 사용한다면 streamlit run app.py라고 하면 된다.\n",
        "* 향후 웹으로 호스팅 하려면, streamlitcloud와 github를 사용할수 있다.\n",
        "* 본 내용에서는 이를 활용하기 위해 pyngrok의 허가 코드를 개인적으로 확보해야 한다.\n",
        "https://developer-ping9.tistory.com/115 를 참조해 보시기 바란다."
      ],
      "metadata": {
        "id": "MK_6oGkbReGG"
      }
    },
    {
      "cell_type": "code",
      "source": [
        "!pip install pyngrok\n",
        "!ngrok authtoken .........   #.......안에 허가받은 코드를 입력한다.\n",
        "from pyngrok import ngrok\n",
        "!streamlit run app.py&>/dev/null&\n",
        "publ_url = ngrok.connect(addr = '8501')\n",
        "publ_url"
      ],
      "metadata": {
        "id": "76jRfnteOAJ8"
      },
      "execution_count": null,
      "outputs": []
    },
    {
      "cell_type": "code",
      "source": [
        ""
      ],
      "metadata": {
        "id": "-ayMdEFSOE_0"
      },
      "execution_count": null,
      "outputs": []
    }
  ]
}